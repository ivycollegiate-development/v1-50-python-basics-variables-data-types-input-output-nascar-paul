{
 "cells": [
  {
   "cell_type": "code",
   "execution_count": 3,
   "metadata": {},
   "outputs": [
    {
     "name": "stdout",
     "output_type": "stream",
     "text": [
      "Converted number: 42\n",
      "Type of number: <class 'int'>\n",
      "Converted pi: 3.14\n",
      "Type of pi: <class 'float'>\n"
     ]
    }
   ],
   "source": [
    "# Declare a variable for your name (string)\n",
    "your_name = 'Mr. Jones'\n",
    "\n",
    "# Declare a variable for your age (integer)\n",
    "your_age = 21\n",
    "\n",
    "# Declare a variable for your height (float)\n",
    "your_height = 6.1\n",
    "\n",
    "# Declare a variable indicating if you're a student (boolean)\n",
    "is_student = False\n",
    "\n",
    "number_string = '42'\n",
    "number_integer = int(number_string)\n",
    "print(f\"Converted number: {number_integer}\")\n",
    "print(f\"Type of number: {type(number_integer)}\")\n",
    "\n",
    "pi_string = '3.14'\n",
    "pi_float = float(pi_string)\n",
    "print(f\"Converted pi: {pi_float}\")\n",
    "print(f\"Type of pi: {type(pi_float)}\")"
   ]
  }
 ],
 "metadata": {
  "kernelspec": {
   "display_name": "Python 3",
   "language": "python",
   "name": "python3"
  },
  "language_info": {
   "codemirror_mode": {
    "name": "ipython",
    "version": 3
   },
   "file_extension": ".py",
   "mimetype": "text/x-python",
   "name": "python",
   "nbconvert_exporter": "python",
   "pygments_lexer": "ipython3",
   "version": "3.12.1"
  }
 },
 "nbformat": 4,
 "nbformat_minor": 2
}
